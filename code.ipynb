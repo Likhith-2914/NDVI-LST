{
 "cells": [
  {
   "cell_type": "code",
   "execution_count": null,
   "metadata": {},
   "outputs": [],
   "source": [
    "'''\n",
    "\n",
    "This code is used to plot the bar graphs of NDVI and LST on basis of monthly averages\n",
    "\n",
    "run('NDVI/rangen')\n",
    "run('LST/rangen')\n",
    "n = {0,1,2}\n",
    "\n",
    "'''"
   ]
  },
  {
   "cell_type": "code",
   "execution_count": 2,
   "metadata": {},
   "outputs": [],
   "source": [
    "import pandas as pd\n",
    "import numpy as np\n",
    "import matplotlib.pyplot as plt\n",
    "import os"
   ]
  },
  {
   "cell_type": "code",
   "execution_count": 3,
   "metadata": {},
   "outputs": [],
   "source": [
    "def preprocess(df):\n",
    "    date_col = df.date\n",
    "    day, month, year = [],[],[]\n",
    "    for date in date_col:\n",
    "        day.append(date%100)\n",
    "        date //= 100\n",
    "        month.append(date%100)\n",
    "        date //= 100\n",
    "        year.append(date)\n",
    "    df.insert(loc=0, column='day', value=day)\n",
    "    df.insert(loc=0, column='month', value=month)\n",
    "    df.insert(loc=0, column='year', value=year)\n",
    "\n",
    "    df = df.drop(['system:index', 'date', '.geo'], axis=1)\n",
    "    return df\n"
   ]
  },
  {
   "cell_type": "code",
   "execution_count": 4,
   "metadata": {},
   "outputs": [],
   "source": [
    "def csvMonthlyNDVI(df, root):\n",
    "    year = df.year[0]\n",
    "    monthlyNDVI = {}\n",
    "    monthly_grouped = df.groupby('month')\n",
    "    monthlyNDVI['month'] = []\n",
    "    for month, group in monthly_grouped:\n",
    "        monthlyNDVI['month'].append(month)\n",
    "        for col in group:\n",
    "            if((col != \"year\") and (col != \"month\") and (col != \"day\")):\n",
    "                if col in monthlyNDVI: monthlyNDVI[col].append(sum(group[col])/len(group[col]))\n",
    "                else: monthlyNDVI[col] = [sum(group[col])/len(group[col])]\n",
    "    \n",
    "    \n",
    "    monthlyNDVI = pd.DataFrame(monthlyNDVI)\n",
    "\n",
    "    monthlyNDVI.to_csv(str(root) + '/monthly_avgs/' + str(year) + '.csv')\n",
    "\n",
    "    for col in monthlyNDVI.columns.values:\n",
    "        if(col != 'month'):\n",
    "            monthlyNDVI.plot(x='month', y=col, kind='bar')\n",
    "            pic_dir = str(root) + \"/monthly_plots/\" + str(year)\n",
    "            if not os.path.exists(pic_dir): os.mkdir(pic_dir)\n",
    "            plt.savefig(pic_dir+ \"/\" + col + \".jpeg\")\n",
    "\n",
    "            "
   ]
  },
  {
   "cell_type": "code",
   "execution_count": 5,
   "metadata": {},
   "outputs": [],
   "source": [
    "def run(root):\n",
    "    ndvi18_0 = pd.read_csv(root + \"/ndvi-18-19.csv\")\n",
    "    ndvi18_0 = preprocess(ndvi18_0)\n",
    "\n",
    "    ndvi19_0 = pd.read_csv(root + \"/ndvi-19-20.csv\")\n",
    "    ndvi19_0 = preprocess(ndvi19_0)\n",
    "\n",
    "    ndvi20_0 = pd.read_csv(root + \"/ndvi-20-21.csv\")\n",
    "    ndvi20_0 = preprocess(ndvi20_0)\n",
    "\n",
    "    ndvi21_0 = pd.read_csv(root + \"/ndvi-21-22.csv\")\n",
    "    ndvi21_0 = preprocess(ndvi21_0)\n",
    "\n",
    "    ndvi22_0 = pd.read_csv(root + \"/ndvi-22-23.csv\")\n",
    "    ndvi22_0 = preprocess(ndvi22_0)\n",
    "\n",
    "    csvMonthlyNDVI(ndvi18_0, root)\n",
    "    csvMonthlyNDVI(ndvi19_0, root)\n",
    "    csvMonthlyNDVI(ndvi20_0, root)\n",
    "    csvMonthlyNDVI(ndvi21_0, root)\n",
    "    csvMonthlyNDVI(ndvi22_0, root)"
   ]
  },
  {
   "cell_type": "code",
   "execution_count": null,
   "metadata": {},
   "outputs": [],
   "source": []
  },
  {
   "cell_type": "code",
   "execution_count": null,
   "metadata": {},
   "outputs": [],
   "source": []
  }
 ],
 "metadata": {
  "kernelspec": {
   "display_name": "Python 3",
   "language": "python",
   "name": "python3"
  },
  "language_info": {
   "codemirror_mode": {
    "name": "ipython",
    "version": 3
   },
   "file_extension": ".py",
   "mimetype": "text/x-python",
   "name": "python",
   "nbconvert_exporter": "python",
   "pygments_lexer": "ipython3",
   "version": "3.8.10"
  },
  "orig_nbformat": 4
 },
 "nbformat": 4,
 "nbformat_minor": 2
}
